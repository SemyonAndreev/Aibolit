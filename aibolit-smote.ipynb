{
 "cells": [
  {
   "cell_type": "code",
   "execution_count": 1,
   "id": "57675c24",
   "metadata": {
    "_cell_guid": "b1076dfc-b9ad-4769-8c92-a6c4dae69d19",
    "_uuid": "8f2839f25d086af736a60e9eeb907d3b93b6e0e5",
    "execution": {
     "iopub.execute_input": "2023-05-18T15:49:59.472558Z",
     "iopub.status.busy": "2023-05-18T15:49:59.472112Z",
     "iopub.status.idle": "2023-05-18T15:50:02.546130Z",
     "shell.execute_reply": "2023-05-18T15:50:02.545177Z"
    },
    "papermill": {
     "duration": 3.089314,
     "end_time": "2023-05-18T15:50:02.548829",
     "exception": false,
     "start_time": "2023-05-18T15:49:59.459515",
     "status": "completed"
    },
    "tags": []
   },
   "outputs": [
    {
     "name": "stderr",
     "output_type": "stream",
     "text": [
      "/opt/conda/lib/python3.10/site-packages/scipy/__init__.py:146: UserWarning: A NumPy version >=1.16.5 and <1.23.0 is required for this version of SciPy (detected version 1.23.5\n",
      "  warnings.warn(f\"A NumPy version >={np_minversion} and <{np_maxversion}\"\n"
     ]
    }
   ],
   "source": [
    "#AIbolit is the name of the project, SMOTE is Synthetic Minority Oversampling Technique \n",
    "#for working with unbalanced data\n",
    "\n",
    "#Several datasets have been collected here for diseases such as lung cancer,\n",
    "#stroke and stroke after oncopathology\n",
    "#I will try to describe each step, let's go!\n",
    "\n",
    "from sklearn.preprocessing import LabelEncoder\n",
    "import pandas as pd\n",
    "import numpy as np\n",
    "from sklearn.preprocessing import LabelEncoder\n",
    "from imblearn.over_sampling import SMOTE\n",
    "from sklearn.ensemble import RandomForestClassifier\n",
    "from sklearn.model_selection import RepeatedStratifiedKFold\n",
    "from sklearn.model_selection import train_test_split\n",
    "from sklearn.model_selection import cross_validate\n",
    "from sklearn.metrics import classification_report, confusion_matrix\n",
    "\n",
    "from sklearn.metrics import confusion_matrix, ConfusionMatrixDisplay\n",
    "from statistics import mean\n",
    "from sklearn.utils import shuffle\n",
    "import seaborn as sns\n",
    "from matplotlib import pyplot as plt\n",
    "import os,sys"
   ]
  },
  {
   "cell_type": "code",
   "execution_count": 2,
   "id": "7bf56bb4",
   "metadata": {
    "execution": {
     "iopub.execute_input": "2023-05-18T15:50:02.569863Z",
     "iopub.status.busy": "2023-05-18T15:50:02.569251Z",
     "iopub.status.idle": "2023-05-18T15:50:04.998586Z",
     "shell.execute_reply": "2023-05-18T15:50:04.997682Z"
    },
    "papermill": {
     "duration": 2.442393,
     "end_time": "2023-05-18T15:50:05.001139",
     "exception": false,
     "start_time": "2023-05-18T15:50:02.558746",
     "status": "completed"
    },
    "tags": []
   },
   "outputs": [],
   "source": [
    "#CANCER & STROKE\n",
    "#Let's start with predictions of stroke and oncopathology\n",
    "#All patients from the sick_patients sample have a documented stroke after oncopathology\n",
    "healthy_patients = pd.read_excel('../input/covid19/dataset.xlsx',engine=\"openpyxl\")\n",
    "sick_patients = pd.read_excel('/kaggle/input/medicine-data/Stroke and Canser predict.xlsx',engine=\"openpyxl\")"
   ]
  },
  {
   "cell_type": "code",
   "execution_count": 3,
   "id": "80b1024d",
   "metadata": {
    "execution": {
     "iopub.execute_input": "2023-05-18T15:50:05.023039Z",
     "iopub.status.busy": "2023-05-18T15:50:05.021220Z",
     "iopub.status.idle": "2023-05-18T15:50:05.055833Z",
     "shell.execute_reply": "2023-05-18T15:50:05.054763Z"
    },
    "papermill": {
     "duration": 0.047849,
     "end_time": "2023-05-18T15:50:05.059063",
     "exception": false,
     "start_time": "2023-05-18T15:50:05.011214",
     "status": "completed"
    },
    "tags": []
   },
   "outputs": [
    {
     "data": {
      "text/html": [
       "<div>\n",
       "<style scoped>\n",
       "    .dataframe tbody tr th:only-of-type {\n",
       "        vertical-align: middle;\n",
       "    }\n",
       "\n",
       "    .dataframe tbody tr th {\n",
       "        vertical-align: top;\n",
       "    }\n",
       "\n",
       "    .dataframe thead th {\n",
       "        text-align: right;\n",
       "    }\n",
       "</style>\n",
       "<table border=\"1\" class=\"dataframe\">\n",
       "  <thead>\n",
       "    <tr style=\"text-align: right;\">\n",
       "      <th></th>\n",
       "      <th>Patient ID</th>\n",
       "      <th>Patient age quantile</th>\n",
       "      <th>SARS-Cov-2 exam result</th>\n",
       "      <th>Patient addmited to regular ward (1=yes, 0=no)</th>\n",
       "      <th>Patient addmited to semi-intensive unit (1=yes, 0=no)</th>\n",
       "      <th>Patient addmited to intensive care unit (1=yes, 0=no)</th>\n",
       "      <th>Hematocrit</th>\n",
       "      <th>Hemoglobin</th>\n",
       "      <th>Platelets</th>\n",
       "      <th>Mean platelet volume</th>\n",
       "      <th>...</th>\n",
       "      <th>Hb saturation (arterial blood gases)</th>\n",
       "      <th>pCO2 (arterial blood gas analysis)</th>\n",
       "      <th>Base excess (arterial blood gas analysis)</th>\n",
       "      <th>pH (arterial blood gas analysis)</th>\n",
       "      <th>Total CO2 (arterial blood gas analysis)</th>\n",
       "      <th>HCO3 (arterial blood gas analysis)</th>\n",
       "      <th>pO2 (arterial blood gas analysis)</th>\n",
       "      <th>Arteiral Fio2</th>\n",
       "      <th>Phosphor</th>\n",
       "      <th>ctO2 (arterial blood gas analysis)</th>\n",
       "    </tr>\n",
       "  </thead>\n",
       "  <tbody>\n",
       "    <tr>\n",
       "      <th>0</th>\n",
       "      <td>44477f75e8169d2</td>\n",
       "      <td>13</td>\n",
       "      <td>negative</td>\n",
       "      <td>0</td>\n",
       "      <td>0</td>\n",
       "      <td>0</td>\n",
       "      <td>NaN</td>\n",
       "      <td>NaN</td>\n",
       "      <td>NaN</td>\n",
       "      <td>NaN</td>\n",
       "      <td>...</td>\n",
       "      <td>NaN</td>\n",
       "      <td>NaN</td>\n",
       "      <td>NaN</td>\n",
       "      <td>NaN</td>\n",
       "      <td>NaN</td>\n",
       "      <td>NaN</td>\n",
       "      <td>NaN</td>\n",
       "      <td>NaN</td>\n",
       "      <td>NaN</td>\n",
       "      <td>NaN</td>\n",
       "    </tr>\n",
       "    <tr>\n",
       "      <th>1</th>\n",
       "      <td>126e9dd13932f68</td>\n",
       "      <td>17</td>\n",
       "      <td>negative</td>\n",
       "      <td>0</td>\n",
       "      <td>0</td>\n",
       "      <td>0</td>\n",
       "      <td>0.236515</td>\n",
       "      <td>-0.02234</td>\n",
       "      <td>-0.517413</td>\n",
       "      <td>0.010677</td>\n",
       "      <td>...</td>\n",
       "      <td>NaN</td>\n",
       "      <td>NaN</td>\n",
       "      <td>NaN</td>\n",
       "      <td>NaN</td>\n",
       "      <td>NaN</td>\n",
       "      <td>NaN</td>\n",
       "      <td>NaN</td>\n",
       "      <td>NaN</td>\n",
       "      <td>NaN</td>\n",
       "      <td>NaN</td>\n",
       "    </tr>\n",
       "    <tr>\n",
       "      <th>2</th>\n",
       "      <td>a46b4402a0e5696</td>\n",
       "      <td>8</td>\n",
       "      <td>negative</td>\n",
       "      <td>0</td>\n",
       "      <td>0</td>\n",
       "      <td>0</td>\n",
       "      <td>NaN</td>\n",
       "      <td>NaN</td>\n",
       "      <td>NaN</td>\n",
       "      <td>NaN</td>\n",
       "      <td>...</td>\n",
       "      <td>NaN</td>\n",
       "      <td>NaN</td>\n",
       "      <td>NaN</td>\n",
       "      <td>NaN</td>\n",
       "      <td>NaN</td>\n",
       "      <td>NaN</td>\n",
       "      <td>NaN</td>\n",
       "      <td>NaN</td>\n",
       "      <td>NaN</td>\n",
       "      <td>NaN</td>\n",
       "    </tr>\n",
       "    <tr>\n",
       "      <th>3</th>\n",
       "      <td>f7d619a94f97c45</td>\n",
       "      <td>5</td>\n",
       "      <td>negative</td>\n",
       "      <td>0</td>\n",
       "      <td>0</td>\n",
       "      <td>0</td>\n",
       "      <td>NaN</td>\n",
       "      <td>NaN</td>\n",
       "      <td>NaN</td>\n",
       "      <td>NaN</td>\n",
       "      <td>...</td>\n",
       "      <td>NaN</td>\n",
       "      <td>NaN</td>\n",
       "      <td>NaN</td>\n",
       "      <td>NaN</td>\n",
       "      <td>NaN</td>\n",
       "      <td>NaN</td>\n",
       "      <td>NaN</td>\n",
       "      <td>NaN</td>\n",
       "      <td>NaN</td>\n",
       "      <td>NaN</td>\n",
       "    </tr>\n",
       "    <tr>\n",
       "      <th>4</th>\n",
       "      <td>d9e41465789c2b5</td>\n",
       "      <td>15</td>\n",
       "      <td>negative</td>\n",
       "      <td>0</td>\n",
       "      <td>0</td>\n",
       "      <td>0</td>\n",
       "      <td>NaN</td>\n",
       "      <td>NaN</td>\n",
       "      <td>NaN</td>\n",
       "      <td>NaN</td>\n",
       "      <td>...</td>\n",
       "      <td>NaN</td>\n",
       "      <td>NaN</td>\n",
       "      <td>NaN</td>\n",
       "      <td>NaN</td>\n",
       "      <td>NaN</td>\n",
       "      <td>NaN</td>\n",
       "      <td>NaN</td>\n",
       "      <td>NaN</td>\n",
       "      <td>NaN</td>\n",
       "      <td>NaN</td>\n",
       "    </tr>\n",
       "  </tbody>\n",
       "</table>\n",
       "<p>5 rows × 111 columns</p>\n",
       "</div>"
      ],
      "text/plain": [
       "        Patient ID  Patient age quantile SARS-Cov-2 exam result  \\\n",
       "0  44477f75e8169d2                    13               negative   \n",
       "1  126e9dd13932f68                    17               negative   \n",
       "2  a46b4402a0e5696                     8               negative   \n",
       "3  f7d619a94f97c45                     5               negative   \n",
       "4  d9e41465789c2b5                    15               negative   \n",
       "\n",
       "   Patient addmited to regular ward (1=yes, 0=no)  \\\n",
       "0                                               0   \n",
       "1                                               0   \n",
       "2                                               0   \n",
       "3                                               0   \n",
       "4                                               0   \n",
       "\n",
       "   Patient addmited to semi-intensive unit (1=yes, 0=no)  \\\n",
       "0                                                  0       \n",
       "1                                                  0       \n",
       "2                                                  0       \n",
       "3                                                  0       \n",
       "4                                                  0       \n",
       "\n",
       "   Patient addmited to intensive care unit (1=yes, 0=no)  Hematocrit  \\\n",
       "0                                                  0             NaN   \n",
       "1                                                  0        0.236515   \n",
       "2                                                  0             NaN   \n",
       "3                                                  0             NaN   \n",
       "4                                                  0             NaN   \n",
       "\n",
       "   Hemoglobin  Platelets  Mean platelet volume   ...  \\\n",
       "0         NaN        NaN                    NaN  ...   \n",
       "1    -0.02234  -0.517413               0.010677  ...   \n",
       "2         NaN        NaN                    NaN  ...   \n",
       "3         NaN        NaN                    NaN  ...   \n",
       "4         NaN        NaN                    NaN  ...   \n",
       "\n",
       "   Hb saturation (arterial blood gases)  pCO2 (arterial blood gas analysis)  \\\n",
       "0                                   NaN                                 NaN   \n",
       "1                                   NaN                                 NaN   \n",
       "2                                   NaN                                 NaN   \n",
       "3                                   NaN                                 NaN   \n",
       "4                                   NaN                                 NaN   \n",
       "\n",
       "   Base excess (arterial blood gas analysis)  \\\n",
       "0                                        NaN   \n",
       "1                                        NaN   \n",
       "2                                        NaN   \n",
       "3                                        NaN   \n",
       "4                                        NaN   \n",
       "\n",
       "   pH (arterial blood gas analysis)  Total CO2 (arterial blood gas analysis)  \\\n",
       "0                               NaN                                      NaN   \n",
       "1                               NaN                                      NaN   \n",
       "2                               NaN                                      NaN   \n",
       "3                               NaN                                      NaN   \n",
       "4                               NaN                                      NaN   \n",
       "\n",
       "   HCO3 (arterial blood gas analysis)  pO2 (arterial blood gas analysis)  \\\n",
       "0                                 NaN                                NaN   \n",
       "1                                 NaN                                NaN   \n",
       "2                                 NaN                                NaN   \n",
       "3                                 NaN                                NaN   \n",
       "4                                 NaN                                NaN   \n",
       "\n",
       "   Arteiral Fio2  Phosphor  ctO2 (arterial blood gas analysis)  \n",
       "0            NaN       NaN                                 NaN  \n",
       "1            NaN       NaN                                 NaN  \n",
       "2            NaN       NaN                                 NaN  \n",
       "3            NaN       NaN                                 NaN  \n",
       "4            NaN       NaN                                 NaN  \n",
       "\n",
       "[5 rows x 111 columns]"
      ]
     },
     "execution_count": 3,
     "metadata": {},
     "output_type": "execute_result"
    }
   ],
   "source": [
    "healthy_patients.head()"
   ]
  },
  {
   "cell_type": "code",
   "execution_count": 4,
   "id": "84ac9fc8",
   "metadata": {
    "execution": {
     "iopub.execute_input": "2023-05-18T15:50:05.079964Z",
     "iopub.status.busy": "2023-05-18T15:50:05.079693Z",
     "iopub.status.idle": "2023-05-18T15:50:05.096899Z",
     "shell.execute_reply": "2023-05-18T15:50:05.095854Z"
    },
    "papermill": {
     "duration": 0.030028,
     "end_time": "2023-05-18T15:50:05.099577",
     "exception": false,
     "start_time": "2023-05-18T15:50:05.069549",
     "status": "completed"
    },
    "tags": []
   },
   "outputs": [
    {
     "data": {
      "text/html": [
       "<div>\n",
       "<style scoped>\n",
       "    .dataframe tbody tr th:only-of-type {\n",
       "        vertical-align: middle;\n",
       "    }\n",
       "\n",
       "    .dataframe tbody tr th {\n",
       "        vertical-align: top;\n",
       "    }\n",
       "\n",
       "    .dataframe thead th {\n",
       "        text-align: right;\n",
       "    }\n",
       "</style>\n",
       "<table border=\"1\" class=\"dataframe\">\n",
       "  <thead>\n",
       "    <tr style=\"text-align: right;\">\n",
       "      <th></th>\n",
       "      <th>Hemoglobin</th>\n",
       "      <th>Hematocrit</th>\n",
       "      <th>Leukocytes</th>\n",
       "      <th>Red blood Cells</th>\n",
       "      <th>Mean corpuscular volume (MCV)</th>\n",
       "      <th>Red blood cell distribution width (RDW)</th>\n",
       "      <th>Platelets</th>\n",
       "      <th>International normalized ratio (INR)</th>\n",
       "      <th>Partial thromboplastin time\\xa0(PTT)\\xa0</th>\n",
       "      <th>'Prothrombin time (PT), Activity</th>\n",
       "    </tr>\n",
       "  </thead>\n",
       "  <tbody>\n",
       "    <tr>\n",
       "      <th>0</th>\n",
       "      <td>149</td>\n",
       "      <td>42.5</td>\n",
       "      <td>7.41</td>\n",
       "      <td>4.95</td>\n",
       "      <td>85.9</td>\n",
       "      <td>NaN</td>\n",
       "      <td>186</td>\n",
       "      <td>1.00</td>\n",
       "      <td>27.0</td>\n",
       "      <td>NaN</td>\n",
       "    </tr>\n",
       "    <tr>\n",
       "      <th>1</th>\n",
       "      <td>77</td>\n",
       "      <td>25.2</td>\n",
       "      <td>5.23</td>\n",
       "      <td>2.97</td>\n",
       "      <td>NaN</td>\n",
       "      <td>NaN</td>\n",
       "      <td>127</td>\n",
       "      <td>1.08</td>\n",
       "      <td>26.0</td>\n",
       "      <td>16.0</td>\n",
       "    </tr>\n",
       "    <tr>\n",
       "      <th>2</th>\n",
       "      <td>143</td>\n",
       "      <td>46.2</td>\n",
       "      <td>4.07</td>\n",
       "      <td>4.85</td>\n",
       "      <td>95.2</td>\n",
       "      <td>55.2</td>\n",
       "      <td>193</td>\n",
       "      <td>0.89</td>\n",
       "      <td>26.0</td>\n",
       "      <td>14.0</td>\n",
       "    </tr>\n",
       "    <tr>\n",
       "      <th>3</th>\n",
       "      <td>93</td>\n",
       "      <td>29.8</td>\n",
       "      <td>15.07</td>\n",
       "      <td>3.35</td>\n",
       "      <td>88.9</td>\n",
       "      <td>65.1</td>\n",
       "      <td>89</td>\n",
       "      <td>1.45</td>\n",
       "      <td>38.0</td>\n",
       "      <td>19.7</td>\n",
       "    </tr>\n",
       "    <tr>\n",
       "      <th>4</th>\n",
       "      <td>134</td>\n",
       "      <td>39.0</td>\n",
       "      <td>5.14</td>\n",
       "      <td>4.65</td>\n",
       "      <td>83.9</td>\n",
       "      <td>47.2</td>\n",
       "      <td>173</td>\n",
       "      <td>1.34</td>\n",
       "      <td>30.2</td>\n",
       "      <td>16.2</td>\n",
       "    </tr>\n",
       "  </tbody>\n",
       "</table>\n",
       "</div>"
      ],
      "text/plain": [
       "   Hemoglobin  Hematocrit  Leukocytes  Red blood Cells  \\\n",
       "0         149        42.5        7.41             4.95   \n",
       "1          77        25.2        5.23             2.97   \n",
       "2         143        46.2        4.07             4.85   \n",
       "3          93        29.8       15.07             3.35   \n",
       "4         134        39.0        5.14             4.65   \n",
       "\n",
       "   Mean corpuscular volume (MCV)  Red blood cell distribution width (RDW)  \\\n",
       "0                           85.9                                      NaN   \n",
       "1                            NaN                                      NaN   \n",
       "2                           95.2                                     55.2   \n",
       "3                           88.9                                     65.1   \n",
       "4                           83.9                                     47.2   \n",
       "\n",
       "   Platelets  International normalized ratio (INR)  \\\n",
       "0        186                                  1.00   \n",
       "1        127                                  1.08   \n",
       "2        193                                  0.89   \n",
       "3         89                                  1.45   \n",
       "4        173                                  1.34   \n",
       "\n",
       "   Partial thromboplastin time\\xa0(PTT)\\xa0  'Prothrombin time (PT), Activity  \n",
       "0                                      27.0                               NaN  \n",
       "1                                      26.0                              16.0  \n",
       "2                                      26.0                              14.0  \n",
       "3                                      38.0                              19.7  \n",
       "4                                      30.2                              16.2  "
      ]
     },
     "execution_count": 4,
     "metadata": {},
     "output_type": "execute_result"
    }
   ],
   "source": [
    "sick_patients.head()"
   ]
  },
  {
   "cell_type": "code",
   "execution_count": 5,
   "id": "1c08628e",
   "metadata": {
    "execution": {
     "iopub.execute_input": "2023-05-18T15:50:05.120931Z",
     "iopub.status.busy": "2023-05-18T15:50:05.120138Z",
     "iopub.status.idle": "2023-05-18T15:50:05.127413Z",
     "shell.execute_reply": "2023-05-18T15:50:05.126570Z"
    },
    "papermill": {
     "duration": 0.01965,
     "end_time": "2023-05-18T15:50:05.129524",
     "exception": false,
     "start_time": "2023-05-18T15:50:05.109874",
     "status": "completed"
    },
    "tags": []
   },
   "outputs": [],
   "source": [
    "#We take only those parameters that are contained in the sick_patients dataset\n",
    "healthy_patients = healthy_patients[['Hemoglobin', 'Hematocrit', 'Leukocytes', 'Red blood Cells', 'Mean corpuscular volume (MCV)', 'Red blood cell distribution width (RDW)', 'Platelets']]\n",
    "healthy_patients = healthy_patients.dropna ()"
   ]
  },
  {
   "cell_type": "code",
   "execution_count": 6,
   "id": "607e2d65",
   "metadata": {
    "execution": {
     "iopub.execute_input": "2023-05-18T15:50:05.151166Z",
     "iopub.status.busy": "2023-05-18T15:50:05.149760Z",
     "iopub.status.idle": "2023-05-18T15:50:05.167279Z",
     "shell.execute_reply": "2023-05-18T15:50:05.166398Z"
    },
    "papermill": {
     "duration": 0.029639,
     "end_time": "2023-05-18T15:50:05.169333",
     "exception": false,
     "start_time": "2023-05-18T15:50:05.139694",
     "status": "completed"
    },
    "tags": []
   },
   "outputs": [],
   "source": [
    "#A little preprocessing\n",
    "sick_patients = sick_patients.round(2)\n",
    "sick_patients = sick_patients.fillna(sick_patients.mean())\n",
    "sick_patients = (sick_patients-sick_patients.mean())/sick_patients.std()\n",
    "sick_patients['Strock'] = 1"
   ]
  },
  {
   "cell_type": "code",
   "execution_count": 7,
   "id": "f251ea48",
   "metadata": {
    "execution": {
     "iopub.execute_input": "2023-05-18T15:50:05.189849Z",
     "iopub.status.busy": "2023-05-18T15:50:05.189594Z",
     "iopub.status.idle": "2023-05-18T15:50:05.680969Z",
     "shell.execute_reply": "2023-05-18T15:50:05.679996Z"
    },
    "papermill": {
     "duration": 0.503969,
     "end_time": "2023-05-18T15:50:05.683452",
     "exception": false,
     "start_time": "2023-05-18T15:50:05.179483",
     "status": "completed"
    },
    "tags": []
   },
   "outputs": [
    {
     "data": {
      "image/png": "[encoded data removed]",
      "text/plain": [
       "<Figure size 800x800 with 2 Axes>"
      ]
     },
     "metadata": {},
     "output_type": "display_data"
    }
   ],
   "source": [
    "#Let's see how our parameters look on the correlation matrix\n",
    "best_features_ever = ['Hemoglobin', 'Leukocytes', 'Mean corpuscular volume (MCV)', 'Red blood cell distribution width (RDW)', 'Platelets']\n",
    "corr = sick_patients.loc[:, best_features_ever].corr()\n",
    "\n",
    "mask = np.zeros_like(corr, dtype=bool)\n",
    "mask[np.triu_indices_from(mask)] = True\n",
    "data, ax = plt.subplots(figsize=(8, 8))\n",
    "plt.title('Correlation plot')\n",
    "cmap = sns.diverging_palette(260, 10, as_cmap=True)\n",
    "\n",
    "sns.heatmap(corr, vmax=1.2, square='square', cmap=cmap, mask=mask, \n",
    "            ax=ax, annot=True, fmt='.2g',linewidths=2);"
   ]
  },
  {
   "cell_type": "code",
   "execution_count": 8,
   "id": "115ef114",
   "metadata": {
    "execution": {
     "iopub.execute_input": "2023-05-18T15:50:05.705834Z",
     "iopub.status.busy": "2023-05-18T15:50:05.705535Z",
     "iopub.status.idle": "2023-05-18T15:50:05.719535Z",
     "shell.execute_reply": "2023-05-18T15:50:05.718950Z"
    },
    "papermill": {
     "duration": 0.027127,
     "end_time": "2023-05-18T15:50:05.721325",
     "exception": false,
     "start_time": "2023-05-18T15:50:05.694198",
     "status": "completed"
    },
    "tags": []
   },
   "outputs": [],
   "source": [
    "healthy_patients['Strock'] = 0\n",
    "sick_patients = sick_patients.round(5)\n",
    "healthy_patients = healthy_patients.round(5)"
   ]
  },
  {
   "cell_type": "code",
   "execution_count": 9,
   "id": "9411d235",
   "metadata": {
    "execution": {
     "iopub.execute_input": "2023-05-18T15:50:05.743208Z",
     "iopub.status.busy": "2023-05-18T15:50:05.742724Z",
     "iopub.status.idle": "2023-05-18T15:50:05.752783Z",
     "shell.execute_reply": "2023-05-18T15:50:05.751897Z"
    },
    "papermill": {
     "duration": 0.023589,
     "end_time": "2023-05-18T15:50:05.755013",
     "exception": false,
     "start_time": "2023-05-18T15:50:05.731424",
     "status": "completed"
    },
    "tags": []
   },
   "outputs": [],
   "source": [
    "#Combining datasets for training\n",
    "data = pd.concat([healthy_patients, sick_patients], axis=0)\n",
    "data = data[['Hemoglobin', 'Leukocytes', 'Mean corpuscular volume (MCV)',\n",
    "             'Red blood cell distribution width (RDW)', 'Platelets', 'Strock']]\n",
    "data = shuffle(data)\n",
    "\n",
    "X = data.drop(['Strock'], axis=1)\n",
    "y = data['Strock']"
   ]
  },
  {
   "cell_type": "code",
   "execution_count": 10,
   "id": "f3926683",
   "metadata": {
    "execution": {
     "iopub.execute_input": "2023-05-18T15:50:05.779006Z",
     "iopub.status.busy": "2023-05-18T15:50:05.778160Z",
     "iopub.status.idle": "2023-05-18T15:50:05.794832Z",
     "shell.execute_reply": "2023-05-18T15:50:05.793714Z"
    },
    "papermill": {
     "duration": 0.03033,
     "end_time": "2023-05-18T15:50:05.797086",
     "exception": false,
     "start_time": "2023-05-18T15:50:05.766756",
     "status": "completed"
    },
    "tags": []
   },
   "outputs": [],
   "source": [
    "#Use SMOTE to oversample the minority class\n",
    "oversample = SMOTE()\n",
    "over_X, over_y = oversample.fit_resample(X, y)\n",
    "over_X_train, over_X_test, over_y_train, over_y_test = train_test_split(over_X, over_y, test_size=0.1, stratify=over_y)\n",
    "#Build SMOTE SRF model\n",
    "SMOTE_SRF = RandomForestClassifier(n_estimators=160)\n",
    "#Create Stratified K-fold cross validation\n",
    "c = RepeatedStratifiedKFold(n_splits=10, n_repeats=3)\n",
    "s = ('f1', 'recall', 'precision')"
   ]
  },
  {
   "cell_type": "code",
   "execution_count": 11,
   "id": "444f2df7",
   "metadata": {
    "execution": {
     "iopub.execute_input": "2023-05-18T15:50:05.818895Z",
     "iopub.status.busy": "2023-05-18T15:50:05.818179Z",
     "iopub.status.idle": "2023-05-18T15:50:24.234166Z",
     "shell.execute_reply": "2023-05-18T15:50:24.232943Z"
    },
    "papermill": {
     "duration": 18.429189,
     "end_time": "2023-05-18T15:50:24.236537",
     "exception": false,
     "start_time": "2023-05-18T15:50:05.807348",
     "status": "completed"
    },
    "tags": []
   },
   "outputs": [
    {
     "name": "stdout",
     "output_type": "stream",
     "text": [
      "Mean f1: 0.855\n",
      "Mean recall: 0.872\n",
      "Mean precision: 0.840\n"
     ]
    }
   ],
   "source": [
    "#Evaluate SMOTE SRF model\n",
    "scoring = cross_validate(SMOTE_SRF, over_X, over_y, scoring=s, cv=c)\n",
    "#Get average evaluation metrics\n",
    "print('Mean f1: %.3f' % mean(scoring['test_f1']))\n",
    "print('Mean recall: %.3f' % mean(scoring['test_recall']))\n",
    "print('Mean precision: %.3f' % mean(scoring['test_precision']))"
   ]
  },
  {
   "cell_type": "code",
   "execution_count": 12,
   "id": "27f0a402",
   "metadata": {
    "execution": {
     "iopub.execute_input": "2023-05-18T15:50:24.260745Z",
     "iopub.status.busy": "2023-05-18T15:50:24.259310Z",
     "iopub.status.idle": "2023-05-18T15:50:24.855178Z",
     "shell.execute_reply": "2023-05-18T15:50:24.854145Z"
    },
    "papermill": {
     "duration": 0.609789,
     "end_time": "2023-05-18T15:50:24.857586",
     "exception": false,
     "start_time": "2023-05-18T15:50:24.247797",
     "status": "completed"
    },
    "tags": []
   },
   "outputs": [
    {
     "data": {
      "text/html": [
       "<style>#sk-container-id-1 {color: black;background-color: white;}#sk-container-id-1 pre{padding: 0;}#sk-container-id-1 div.sk-toggleable {background-color: white;}#sk-container-id-1 label.sk-toggleable__label {cursor: pointer;display: block;width: 100%;margin-bottom: 0;padding: 0.3em;box-sizing: border-box;text-align: center;}#sk-container-id-1 label.sk-toggleable__label-arrow:before {content: \"▸\";float: left;margin-right: 0.25em;color: #696969;}#sk-container-id-1 label.sk-toggleable__label-arrow:hover:before {color: black;}#sk-container-id-1 div.sk-estimator:hover label.sk-toggleable__label-arrow:before {color: black;}#sk-container-id-1 div.sk-toggleable__content {max-height: 0;max-width: 0;overflow: hidden;text-align: left;background-color: #f0f8ff;}#sk-container-id-1 div.sk-toggleable__content pre {margin: 0.2em;color: black;border-radius: 0.25em;background-color: #f0f8ff;}#sk-container-id-1 input.sk-toggleable__control:checked~div.sk-toggleable__content {max-height: 200px;max-width: 100%;overflow: auto;}#sk-container-id-1 input.sk-toggleable__control:checked~label.sk-toggleable__label-arrow:before {content: \"▾\";}#sk-container-id-1 div.sk-estimator input.sk-toggleable__control:checked~label.sk-toggleable__label {background-color: #d4ebff;}#sk-container-id-1 div.sk-label input.sk-toggleable__control:checked~label.sk-toggleable__label {background-color: #d4ebff;}#sk-container-id-1 input.sk-hidden--visually {border: 0;clip: rect(1px 1px 1px 1px);clip: rect(1px, 1px, 1px, 1px);height: 1px;margin: -1px;overflow: hidden;padding: 0;position: absolute;width: 1px;}#sk-container-id-1 div.sk-estimator {font-family: monospace;background-color: #f0f8ff;border: 1px dotted black;border-radius: 0.25em;box-sizing: border-box;margin-bottom: 0.5em;}#sk-container-id-1 div.sk-estimator:hover {background-color: #d4ebff;}#sk-container-id-1 div.sk-parallel-item::after {content: \"\";width: 100%;border-bottom: 1px solid gray;flex-grow: 1;}#sk-container-id-1 div.sk-label:hover label.sk-toggleable__label {background-color: #d4ebff;}#sk-container-id-1 div.sk-serial::before {content: \"\";position: absolute;border-left: 1px solid gray;box-sizing: border-box;top: 0;bottom: 0;left: 50%;z-index: 0;}#sk-container-id-1 div.sk-serial {display: flex;flex-direction: column;align-items: center;background-color: white;padding-right: 0.2em;padding-left: 0.2em;position: relative;}#sk-container-id-1 div.sk-item {position: relative;z-index: 1;}#sk-container-id-1 div.sk-parallel {display: flex;align-items: stretch;justify-content: center;background-color: white;position: relative;}#sk-container-id-1 div.sk-item::before, #sk-container-id-1 div.sk-parallel-item::before {content: \"\";position: absolute;border-left: 1px solid gray;box-sizing: border-box;top: 0;bottom: 0;left: 50%;z-index: -1;}#sk-container-id-1 div.sk-parallel-item {display: flex;flex-direction: column;z-index: 1;position: relative;background-color: white;}#sk-container-id-1 div.sk-parallel-item:first-child::after {align-self: flex-end;width: 50%;}#sk-container-id-1 div.sk-parallel-item:last-child::after {align-self: flex-start;width: 50%;}#sk-container-id-1 div.sk-parallel-item:only-child::after {width: 0;}#sk-container-id-1 div.sk-dashed-wrapped {border: 1px dashed gray;margin: 0 0.4em 0.5em 0.4em;box-sizing: border-box;padding-bottom: 0.4em;background-color: white;}#sk-container-id-1 div.sk-label label {font-family: monospace;font-weight: bold;display: inline-block;line-height: 1.2em;}#sk-container-id-1 div.sk-label-container {text-align: center;}#sk-container-id-1 div.sk-container {/* jupyter's `normalize.less` sets `[hidden] { display: none; }` but bootstrap.min.css set `[hidden] { display: none !important; }` so we also need the `!important` here to be able to override the default hidden behavior on the sphinx rendered scikit-learn.org. See: https://github.com/scikit-learn/scikit-learn/issues/21755 */display: inline-block !important;position: relative;}#sk-container-id-1 div.sk-text-repr-fallback {display: none;}</style><div id=\"sk-container-id-1\" class=\"sk-top-container\"><div class=\"sk-text-repr-fallback\"><pre>RandomForestClassifier(n_estimators=160)</pre><b>In a Jupyter environment, please rerun this cell to show the HTML representation or trust the notebook. <br />On GitHub, the HTML representation is unable to render, please try loading this page with nbviewer.org.</b></div><div class=\"sk-container\" hidden><div class=\"sk-item\"><div class=\"sk-estimator sk-toggleable\"><input class=\"sk-toggleable__control sk-hidden--visually\" id=\"sk-estimator-id-1\" type=\"checkbox\" checked><label for=\"sk-estimator-id-1\" class=\"sk-toggleable__label sk-toggleable__label-arrow\">RandomForestClassifier</label><div class=\"sk-toggleable__content\"><pre>RandomForestClassifier(n_estimators=160)</pre></div></div></div></div></div>"
      ],
      "text/plain": [
       "RandomForestClassifier(n_estimators=160)"
      ]
     },
     "execution_count": 12,
     "metadata": {},
     "output_type": "execute_result"
    }
   ],
   "source": [
    "X_train, X_test, y_train, y_test = train_test_split(X, y, test_size=0.1, stratify=y)\n",
    "SMOTE_SRF.fit(over_X_train, over_y_train)"
   ]
  },
  {
   "cell_type": "code",
   "execution_count": 13,
   "id": "9b770633",
   "metadata": {
    "execution": {
     "iopub.execute_input": "2023-05-18T15:50:24.881360Z",
     "iopub.status.busy": "2023-05-18T15:50:24.881045Z",
     "iopub.status.idle": "2023-05-18T15:50:24.910971Z",
     "shell.execute_reply": "2023-05-18T15:50:24.909936Z"
    },
    "papermill": {
     "duration": 0.04416,
     "end_time": "2023-05-18T15:50:24.913151",
     "exception": false,
     "start_time": "2023-05-18T15:50:24.868991",
     "status": "completed"
    },
    "tags": []
   },
   "outputs": [
    {
     "data": {
      "text/plain": [
       "0"
      ]
     },
     "execution_count": 13,
     "metadata": {},
     "output_type": "execute_result"
    }
   ],
   "source": [
    "y_pred = SMOTE_SRF.predict(X_test)\n",
    "y_pred[0]"
   ]
  },
  {
   "cell_type": "code",
   "execution_count": 14,
   "id": "4977af78",
   "metadata": {
    "execution": {
     "iopub.execute_input": "2023-05-18T15:50:24.936969Z",
     "iopub.status.busy": "2023-05-18T15:50:24.936705Z",
     "iopub.status.idle": "2023-05-18T15:50:24.965784Z",
     "shell.execute_reply": "2023-05-18T15:50:24.964570Z"
    },
    "papermill": {
     "duration": 0.043398,
     "end_time": "2023-05-18T15:50:24.968336",
     "exception": false,
     "start_time": "2023-05-18T15:50:24.924938",
     "status": "completed"
    },
    "tags": []
   },
   "outputs": [
    {
     "data": {
      "text/plain": [
       "array([0.9625, 0.0375])"
      ]
     },
     "execution_count": 14,
     "metadata": {},
     "output_type": "execute_result"
    }
   ],
   "source": [
    "#I prefer _proba because you can't say sick person or not without a doctor's appointment\n",
    "y_pred_proba = SMOTE_SRF.predict_proba(X_test)\n",
    "y_pred_proba[0]"
   ]
  },
  {
   "cell_type": "code",
   "execution_count": 15,
   "id": "68a45c91",
   "metadata": {
    "execution": {
     "iopub.execute_input": "2023-05-18T15:50:24.992346Z",
     "iopub.status.busy": "2023-05-18T15:50:24.991618Z",
     "iopub.status.idle": "2023-05-18T15:50:25.240219Z",
     "shell.execute_reply": "2023-05-18T15:50:25.239260Z"
    },
    "papermill": {
     "duration": 0.262118,
     "end_time": "2023-05-18T15:50:25.242348",
     "exception": false,
     "start_time": "2023-05-18T15:50:24.980230",
     "status": "completed"
    },
    "tags": []
   },
   "outputs": [
    {
     "data": {
      "image/png": "[encoded data removed]",
      "text/plain": [
       "<Figure size 640x480 with 2 Axes>"
      ]
     },
     "metadata": {},
     "output_type": "display_data"
    }
   ],
   "source": [
    "#Create confusion matrix\n",
    "cm = confusion_matrix(y_test, y_pred, labels=SMOTE_SRF.classes_)\n",
    "disp = ConfusionMatrixDisplay(confusion_matrix=cm,display_labels=SMOTE_SRF.classes_)\n",
    "disp.plot()\n",
    "plt.show()"
   ]
  },
  {
   "cell_type": "code",
   "execution_count": 16,
   "id": "2566434e",
   "metadata": {
    "execution": {
     "iopub.execute_input": "2023-05-18T15:50:25.266075Z",
     "iopub.status.busy": "2023-05-18T15:50:25.265741Z",
     "iopub.status.idle": "2023-05-18T15:50:25.285568Z",
     "shell.execute_reply": "2023-05-18T15:50:25.284686Z"
    },
    "papermill": {
     "duration": 0.033883,
     "end_time": "2023-05-18T15:50:25.287580",
     "exception": false,
     "start_time": "2023-05-18T15:50:25.253697",
     "status": "completed"
    },
    "tags": []
   },
   "outputs": [],
   "source": [
    "#LUNG\n",
    "#Let's continue working with lung cancer and do everything by analogy\n",
    "lung_data = pd.read_csv(\"/kaggle/input/lung-cancer/survey lung cancer.csv\")"
   ]
  },
  {
   "cell_type": "code",
   "execution_count": 17,
   "id": "73bc6ea3",
   "metadata": {
    "execution": {
     "iopub.execute_input": "2023-05-18T15:50:25.311028Z",
     "iopub.status.busy": "2023-05-18T15:50:25.310499Z",
     "iopub.status.idle": "2023-05-18T15:50:25.323628Z",
     "shell.execute_reply": "2023-05-18T15:50:25.322597Z"
    },
    "papermill": {
     "duration": 0.027169,
     "end_time": "2023-05-18T15:50:25.325768",
     "exception": false,
     "start_time": "2023-05-18T15:50:25.298599",
     "status": "completed"
    },
    "tags": []
   },
   "outputs": [
    {
     "data": {
      "text/plain": [
       "YES    270\n",
       "NO      39\n",
       "Name: LUNG_CANCER, dtype: int64"
      ]
     },
     "execution_count": 17,
     "metadata": {},
     "output_type": "execute_result"
    }
   ],
   "source": [
    "#There are always fewer sick patients than healthy ones\n",
    "lung_data['LUNG_CANCER'].value_counts()"
   ]
  },
  {
   "cell_type": "code",
   "execution_count": 18,
   "id": "8b2e105c",
   "metadata": {
    "execution": {
     "iopub.execute_input": "2023-05-18T15:50:25.349666Z",
     "iopub.status.busy": "2023-05-18T15:50:25.348933Z",
     "iopub.status.idle": "2023-05-18T15:50:25.363474Z",
     "shell.execute_reply": "2023-05-18T15:50:25.362461Z"
    },
    "papermill": {
     "duration": 0.028666,
     "end_time": "2023-05-18T15:50:25.365645",
     "exception": false,
     "start_time": "2023-05-18T15:50:25.336979",
     "status": "completed"
    },
    "tags": []
   },
   "outputs": [
    {
     "data": {
      "text/html": [
       "<div>\n",
       "<style scoped>\n",
       "    .dataframe tbody tr th:only-of-type {\n",
       "        vertical-align: middle;\n",
       "    }\n",
       "\n",
       "    .dataframe tbody tr th {\n",
       "        vertical-align: top;\n",
       "    }\n",
       "\n",
       "    .dataframe thead th {\n",
       "        text-align: right;\n",
       "    }\n",
       "</style>\n",
       "<table border=\"1\" class=\"dataframe\">\n",
       "  <thead>\n",
       "    <tr style=\"text-align: right;\">\n",
       "      <th></th>\n",
       "      <th>GENDER</th>\n",
       "      <th>AGE</th>\n",
       "      <th>SMOKING</th>\n",
       "      <th>YELLOW_FINGERS</th>\n",
       "      <th>ANXIETY</th>\n",
       "      <th>PEER_PRESSURE</th>\n",
       "      <th>CHRONIC DISEASE</th>\n",
       "      <th>FATIGUE</th>\n",
       "      <th>ALLERGY</th>\n",
       "      <th>WHEEZING</th>\n",
       "      <th>ALCOHOL CONSUMING</th>\n",
       "      <th>COUGHING</th>\n",
       "      <th>SHORTNESS OF BREATH</th>\n",
       "      <th>SWALLOWING DIFFICULTY</th>\n",
       "      <th>CHEST PAIN</th>\n",
       "      <th>LUNG_CANCER</th>\n",
       "    </tr>\n",
       "  </thead>\n",
       "  <tbody>\n",
       "    <tr>\n",
       "      <th>0</th>\n",
       "      <td>M</td>\n",
       "      <td>69</td>\n",
       "      <td>1</td>\n",
       "      <td>2</td>\n",
       "      <td>2</td>\n",
       "      <td>1</td>\n",
       "      <td>1</td>\n",
       "      <td>2</td>\n",
       "      <td>1</td>\n",
       "      <td>2</td>\n",
       "      <td>2</td>\n",
       "      <td>2</td>\n",
       "      <td>2</td>\n",
       "      <td>2</td>\n",
       "      <td>2</td>\n",
       "      <td>YES</td>\n",
       "    </tr>\n",
       "    <tr>\n",
       "      <th>1</th>\n",
       "      <td>M</td>\n",
       "      <td>74</td>\n",
       "      <td>2</td>\n",
       "      <td>1</td>\n",
       "      <td>1</td>\n",
       "      <td>1</td>\n",
       "      <td>2</td>\n",
       "      <td>2</td>\n",
       "      <td>2</td>\n",
       "      <td>1</td>\n",
       "      <td>1</td>\n",
       "      <td>1</td>\n",
       "      <td>2</td>\n",
       "      <td>2</td>\n",
       "      <td>2</td>\n",
       "      <td>YES</td>\n",
       "    </tr>\n",
       "    <tr>\n",
       "      <th>2</th>\n",
       "      <td>F</td>\n",
       "      <td>59</td>\n",
       "      <td>1</td>\n",
       "      <td>1</td>\n",
       "      <td>1</td>\n",
       "      <td>2</td>\n",
       "      <td>1</td>\n",
       "      <td>2</td>\n",
       "      <td>1</td>\n",
       "      <td>2</td>\n",
       "      <td>1</td>\n",
       "      <td>2</td>\n",
       "      <td>2</td>\n",
       "      <td>1</td>\n",
       "      <td>2</td>\n",
       "      <td>NO</td>\n",
       "    </tr>\n",
       "    <tr>\n",
       "      <th>3</th>\n",
       "      <td>M</td>\n",
       "      <td>63</td>\n",
       "      <td>2</td>\n",
       "      <td>2</td>\n",
       "      <td>2</td>\n",
       "      <td>1</td>\n",
       "      <td>1</td>\n",
       "      <td>1</td>\n",
       "      <td>1</td>\n",
       "      <td>1</td>\n",
       "      <td>2</td>\n",
       "      <td>1</td>\n",
       "      <td>1</td>\n",
       "      <td>2</td>\n",
       "      <td>2</td>\n",
       "      <td>NO</td>\n",
       "    </tr>\n",
       "    <tr>\n",
       "      <th>4</th>\n",
       "      <td>F</td>\n",
       "      <td>63</td>\n",
       "      <td>1</td>\n",
       "      <td>2</td>\n",
       "      <td>1</td>\n",
       "      <td>1</td>\n",
       "      <td>1</td>\n",
       "      <td>1</td>\n",
       "      <td>1</td>\n",
       "      <td>2</td>\n",
       "      <td>1</td>\n",
       "      <td>2</td>\n",
       "      <td>2</td>\n",
       "      <td>1</td>\n",
       "      <td>1</td>\n",
       "      <td>NO</td>\n",
       "    </tr>\n",
       "  </tbody>\n",
       "</table>\n",
       "</div>"
      ],
      "text/plain": [
       "  GENDER  AGE  SMOKING  YELLOW_FINGERS  ANXIETY  PEER_PRESSURE  \\\n",
       "0      M   69        1               2        2              1   \n",
       "1      M   74        2               1        1              1   \n",
       "2      F   59        1               1        1              2   \n",
       "3      M   63        2               2        2              1   \n",
       "4      F   63        1               2        1              1   \n",
       "\n",
       "   CHRONIC DISEASE  FATIGUE   ALLERGY   WHEEZING  ALCOHOL CONSUMING  COUGHING  \\\n",
       "0                1         2         1         2                  2         2   \n",
       "1                2         2         2         1                  1         1   \n",
       "2                1         2         1         2                  1         2   \n",
       "3                1         1         1         1                  2         1   \n",
       "4                1         1         1         2                  1         2   \n",
       "\n",
       "   SHORTNESS OF BREATH  SWALLOWING DIFFICULTY  CHEST PAIN LUNG_CANCER  \n",
       "0                    2                      2           2         YES  \n",
       "1                    2                      2           2         YES  \n",
       "2                    2                      1           2          NO  \n",
       "3                    1                      2           2          NO  \n",
       "4                    2                      1           1          NO  "
      ]
     },
     "execution_count": 18,
     "metadata": {},
     "output_type": "execute_result"
    }
   ],
   "source": [
    "lung_data.head()"
   ]
  },
  {
   "cell_type": "code",
   "execution_count": 19,
   "id": "a5741179",
   "metadata": {
    "execution": {
     "iopub.execute_input": "2023-05-18T15:50:25.392820Z",
     "iopub.status.busy": "2023-05-18T15:50:25.392527Z",
     "iopub.status.idle": "2023-05-18T15:50:25.405024Z",
     "shell.execute_reply": "2023-05-18T15:50:25.404138Z"
    },
    "papermill": {
     "duration": 0.028607,
     "end_time": "2023-05-18T15:50:25.407032",
     "exception": false,
     "start_time": "2023-05-18T15:50:25.378425",
     "status": "completed"
    },
    "tags": []
   },
   "outputs": [],
   "source": [
    "encoder = LabelEncoder()\n",
    "lung_data['LUNG_CANCER']=encoder.fit_transform(lung_data['LUNG_CANCER'])\n",
    "lung_data['GENDER']=encoder.fit_transform(lung_data['GENDER'])\n",
    "lung_data = lung_data[['GENDER', 'AGE', 'SMOKING', 'CHRONIC DISEASE', 'ALLERGY ', 'WHEEZING',\n",
    "       'ALCOHOL CONSUMING', 'COUGHING', 'SHORTNESS OF BREATH',\n",
    "       'SWALLOWING DIFFICULTY', 'CHEST PAIN', 'LUNG_CANCER']]\n",
    "\n",
    "lung_data.drop_duplicates(inplace=True)"
   ]
  },
  {
   "cell_type": "code",
   "execution_count": 20,
   "id": "95336a23",
   "metadata": {
    "execution": {
     "iopub.execute_input": "2023-05-18T15:50:25.434027Z",
     "iopub.status.busy": "2023-05-18T15:50:25.433211Z",
     "iopub.status.idle": "2023-05-18T15:50:25.439361Z",
     "shell.execute_reply": "2023-05-18T15:50:25.438314Z"
    },
    "papermill": {
     "duration": 0.022607,
     "end_time": "2023-05-18T15:50:25.441896",
     "exception": false,
     "start_time": "2023-05-18T15:50:25.419289",
     "status": "completed"
    },
    "tags": []
   },
   "outputs": [],
   "source": [
    "X_lung = lung_data.drop(['LUNG_CANCER'], axis=1)\n",
    "y_lung = lung_data['LUNG_CANCER']"
   ]
  },
  {
   "cell_type": "code",
   "execution_count": 21,
   "id": "a47f064f",
   "metadata": {
    "execution": {
     "iopub.execute_input": "2023-05-18T15:50:25.471495Z",
     "iopub.status.busy": "2023-05-18T15:50:25.470654Z",
     "iopub.status.idle": "2023-05-18T15:50:25.484474Z",
     "shell.execute_reply": "2023-05-18T15:50:25.483483Z"
    },
    "papermill": {
     "duration": 0.030184,
     "end_time": "2023-05-18T15:50:25.486939",
     "exception": false,
     "start_time": "2023-05-18T15:50:25.456755",
     "status": "completed"
    },
    "tags": []
   },
   "outputs": [],
   "source": [
    "oversample_lung = SMOTE()\n",
    "over_X_lung, over_y_lung = oversample_lung.fit_resample(X_lung, y_lung)\n",
    "over_X_train_lung, over_X_test_lung, over_y_train_lung, over_y_test_lung = train_test_split(over_X_lung, over_y_lung, test_size=0.1, stratify=over_y_lung)\n",
    "SMOTE_SRF_lung = RandomForestClassifier(n_estimators=60)\n",
    "cv_lung = RepeatedStratifiedKFold(n_splits=10, n_repeats=3)"
   ]
  },
  {
   "cell_type": "code",
   "execution_count": 22,
   "id": "00892383",
   "metadata": {
    "execution": {
     "iopub.execute_input": "2023-05-18T15:50:25.515044Z",
     "iopub.status.busy": "2023-05-18T15:50:25.514217Z",
     "iopub.status.idle": "2023-05-18T15:50:29.869339Z",
     "shell.execute_reply": "2023-05-18T15:50:29.868402Z"
    },
    "papermill": {
     "duration": 4.371117,
     "end_time": "2023-05-18T15:50:29.871841",
     "exception": false,
     "start_time": "2023-05-18T15:50:25.500724",
     "status": "completed"
    },
    "tags": []
   },
   "outputs": [
    {
     "name": "stdout",
     "output_type": "stream",
     "text": [
      "Mean f1: 0.933\n",
      "Mean recall: 0.939\n",
      "Mean precision: 0.930\n"
     ]
    }
   ],
   "source": [
    "scoring_lung = cross_validate(SMOTE_SRF_lung, over_X_lung, over_y_lung, scoring=s, cv=cv_lung)\n",
    "print('Mean f1: %.3f' % mean(scoring_lung['test_f1']))\n",
    "print('Mean recall: %.3f' % mean(scoring_lung['test_recall']))\n",
    "print('Mean precision: %.3f' % mean(scoring_lung['test_precision']))"
   ]
  },
  {
   "cell_type": "code",
   "execution_count": 23,
   "id": "cc9ec25e",
   "metadata": {
    "execution": {
     "iopub.execute_input": "2023-05-18T15:50:29.897614Z",
     "iopub.status.busy": "2023-05-18T15:50:29.896011Z",
     "iopub.status.idle": "2023-05-18T15:50:30.282525Z",
     "shell.execute_reply": "2023-05-18T15:50:30.281415Z"
    },
    "papermill": {
     "duration": 0.401902,
     "end_time": "2023-05-18T15:50:30.285413",
     "exception": false,
     "start_time": "2023-05-18T15:50:29.883511",
     "status": "completed"
    },
    "tags": []
   },
   "outputs": [],
   "source": [
    "X_train_lung, X_test_lung, y_train_lung, y_test_lung = train_test_split(X_lung, y_lung, test_size=0.1, stratify=y_lung)\n",
    "SMOTE_SRF.fit(over_X_train_lung, over_y_train_lung)\n",
    "y_pred_lung = SMOTE_SRF.predict_proba(X_test_lung)"
   ]
  },
  {
   "cell_type": "code",
   "execution_count": 24,
   "id": "ea2ab37d",
   "metadata": {
    "execution": {
     "iopub.execute_input": "2023-05-18T15:50:30.312841Z",
     "iopub.status.busy": "2023-05-18T15:50:30.312539Z",
     "iopub.status.idle": "2023-05-18T15:50:30.319110Z",
     "shell.execute_reply": "2023-05-18T15:50:30.318139Z"
    },
    "papermill": {
     "duration": 0.021931,
     "end_time": "2023-05-18T15:50:30.321457",
     "exception": false,
     "start_time": "2023-05-18T15:50:30.299526",
     "status": "completed"
    },
    "tags": []
   },
   "outputs": [
    {
     "data": {
      "text/plain": [
       "array([0.2375, 0.7625])"
      ]
     },
     "execution_count": 24,
     "metadata": {},
     "output_type": "execute_result"
    }
   ],
   "source": [
    "y_pred_lung[0]"
   ]
  },
  {
   "cell_type": "code",
   "execution_count": 25,
   "id": "04e2ad0b",
   "metadata": {
    "execution": {
     "iopub.execute_input": "2023-05-18T15:50:30.349000Z",
     "iopub.status.busy": "2023-05-18T15:50:30.348136Z",
     "iopub.status.idle": "2023-05-18T15:50:30.376801Z",
     "shell.execute_reply": "2023-05-18T15:50:30.375906Z"
    },
    "papermill": {
     "duration": 0.043815,
     "end_time": "2023-05-18T15:50:30.378866",
     "exception": false,
     "start_time": "2023-05-18T15:50:30.335051",
     "status": "completed"
    },
    "tags": []
   },
   "outputs": [],
   "source": [
    "#STROKE\n",
    "#Using SMOTE for the third dataset\n",
    "stroke_data = pd.read_csv('/kaggle/input/stroke-prediction-dataset/healthcare-dataset-stroke-data.csv')"
   ]
  },
  {
   "cell_type": "code",
   "execution_count": 26,
   "id": "2060f825",
   "metadata": {
    "execution": {
     "iopub.execute_input": "2023-05-18T15:50:30.404926Z",
     "iopub.status.busy": "2023-05-18T15:50:30.404204Z",
     "iopub.status.idle": "2023-05-18T15:50:30.420907Z",
     "shell.execute_reply": "2023-05-18T15:50:30.419893Z"
    },
    "papermill": {
     "duration": 0.032059,
     "end_time": "2023-05-18T15:50:30.423344",
     "exception": false,
     "start_time": "2023-05-18T15:50:30.391285",
     "status": "completed"
    },
    "tags": []
   },
   "outputs": [
    {
     "data": {
      "text/html": [
       "<div>\n",
       "<style scoped>\n",
       "    .dataframe tbody tr th:only-of-type {\n",
       "        vertical-align: middle;\n",
       "    }\n",
       "\n",
       "    .dataframe tbody tr th {\n",
       "        vertical-align: top;\n",
       "    }\n",
       "\n",
       "    .dataframe thead th {\n",
       "        text-align: right;\n",
       "    }\n",
       "</style>\n",
       "<table border=\"1\" class=\"dataframe\">\n",
       "  <thead>\n",
       "    <tr style=\"text-align: right;\">\n",
       "      <th></th>\n",
       "      <th>id</th>\n",
       "      <th>gender</th>\n",
       "      <th>age</th>\n",
       "      <th>hypertension</th>\n",
       "      <th>heart_disease</th>\n",
       "      <th>ever_married</th>\n",
       "      <th>work_type</th>\n",
       "      <th>Residence_type</th>\n",
       "      <th>avg_glucose_level</th>\n",
       "      <th>bmi</th>\n",
       "      <th>smoking_status</th>\n",
       "      <th>stroke</th>\n",
       "    </tr>\n",
       "  </thead>\n",
       "  <tbody>\n",
       "    <tr>\n",
       "      <th>0</th>\n",
       "      <td>9046</td>\n",
       "      <td>Male</td>\n",
       "      <td>67.0</td>\n",
       "      <td>0</td>\n",
       "      <td>1</td>\n",
       "      <td>Yes</td>\n",
       "      <td>Private</td>\n",
       "      <td>Urban</td>\n",
       "      <td>228.69</td>\n",
       "      <td>36.6</td>\n",
       "      <td>formerly smoked</td>\n",
       "      <td>1</td>\n",
       "    </tr>\n",
       "    <tr>\n",
       "      <th>1</th>\n",
       "      <td>51676</td>\n",
       "      <td>Female</td>\n",
       "      <td>61.0</td>\n",
       "      <td>0</td>\n",
       "      <td>0</td>\n",
       "      <td>Yes</td>\n",
       "      <td>Self-employed</td>\n",
       "      <td>Rural</td>\n",
       "      <td>202.21</td>\n",
       "      <td>NaN</td>\n",
       "      <td>never smoked</td>\n",
       "      <td>1</td>\n",
       "    </tr>\n",
       "    <tr>\n",
       "      <th>2</th>\n",
       "      <td>31112</td>\n",
       "      <td>Male</td>\n",
       "      <td>80.0</td>\n",
       "      <td>0</td>\n",
       "      <td>1</td>\n",
       "      <td>Yes</td>\n",
       "      <td>Private</td>\n",
       "      <td>Rural</td>\n",
       "      <td>105.92</td>\n",
       "      <td>32.5</td>\n",
       "      <td>never smoked</td>\n",
       "      <td>1</td>\n",
       "    </tr>\n",
       "    <tr>\n",
       "      <th>3</th>\n",
       "      <td>60182</td>\n",
       "      <td>Female</td>\n",
       "      <td>49.0</td>\n",
       "      <td>0</td>\n",
       "      <td>0</td>\n",
       "      <td>Yes</td>\n",
       "      <td>Private</td>\n",
       "      <td>Urban</td>\n",
       "      <td>171.23</td>\n",
       "      <td>34.4</td>\n",
       "      <td>smokes</td>\n",
       "      <td>1</td>\n",
       "    </tr>\n",
       "    <tr>\n",
       "      <th>4</th>\n",
       "      <td>1665</td>\n",
       "      <td>Female</td>\n",
       "      <td>79.0</td>\n",
       "      <td>1</td>\n",
       "      <td>0</td>\n",
       "      <td>Yes</td>\n",
       "      <td>Self-employed</td>\n",
       "      <td>Rural</td>\n",
       "      <td>174.12</td>\n",
       "      <td>24.0</td>\n",
       "      <td>never smoked</td>\n",
       "      <td>1</td>\n",
       "    </tr>\n",
       "  </tbody>\n",
       "</table>\n",
       "</div>"
      ],
      "text/plain": [
       "      id  gender   age  hypertension  heart_disease ever_married  \\\n",
       "0   9046    Male  67.0             0              1          Yes   \n",
       "1  51676  Female  61.0             0              0          Yes   \n",
       "2  31112    Male  80.0             0              1          Yes   \n",
       "3  60182  Female  49.0             0              0          Yes   \n",
       "4   1665  Female  79.0             1              0          Yes   \n",
       "\n",
       "       work_type Residence_type  avg_glucose_level   bmi   smoking_status  \\\n",
       "0        Private          Urban             228.69  36.6  formerly smoked   \n",
       "1  Self-employed          Rural             202.21   NaN     never smoked   \n",
       "2        Private          Rural             105.92  32.5     never smoked   \n",
       "3        Private          Urban             171.23  34.4           smokes   \n",
       "4  Self-employed          Rural             174.12  24.0     never smoked   \n",
       "\n",
       "   stroke  \n",
       "0       1  \n",
       "1       1  \n",
       "2       1  \n",
       "3       1  \n",
       "4       1  "
      ]
     },
     "execution_count": 26,
     "metadata": {},
     "output_type": "execute_result"
    }
   ],
   "source": [
    "stroke_data.head()"
   ]
  },
  {
   "cell_type": "code",
   "execution_count": 27,
   "id": "3d3baf96",
   "metadata": {
    "execution": {
     "iopub.execute_input": "2023-05-18T15:50:30.450249Z",
     "iopub.status.busy": "2023-05-18T15:50:30.449720Z",
     "iopub.status.idle": "2023-05-18T15:50:30.456116Z",
     "shell.execute_reply": "2023-05-18T15:50:30.455143Z"
    },
    "papermill": {
     "duration": 0.022216,
     "end_time": "2023-05-18T15:50:30.458540",
     "exception": false,
     "start_time": "2023-05-18T15:50:30.436324",
     "status": "completed"
    },
    "tags": []
   },
   "outputs": [],
   "source": [
    "stroke_data = stroke_data[['gender','age', 'hypertension', 'heart_disease','avg_glucose_level','smoking_status','stroke']]"
   ]
  },
  {
   "cell_type": "code",
   "execution_count": 28,
   "id": "3a6a7376",
   "metadata": {
    "execution": {
     "iopub.execute_input": "2023-05-18T15:50:30.484855Z",
     "iopub.status.busy": "2023-05-18T15:50:30.484589Z",
     "iopub.status.idle": "2023-05-18T15:50:30.499718Z",
     "shell.execute_reply": "2023-05-18T15:50:30.498825Z"
    },
    "papermill": {
     "duration": 0.030435,
     "end_time": "2023-05-18T15:50:30.501970",
     "exception": false,
     "start_time": "2023-05-18T15:50:30.471535",
     "status": "completed"
    },
    "tags": []
   },
   "outputs": [],
   "source": [
    "#Bring the data to a convenient form\n",
    "stroke_data = stroke_data.replace(\"Female\", \"0\")\n",
    "stroke_data = stroke_data.replace(\"Male\", \"1\")\n",
    "stroke_data = stroke_data.replace(\"Other\", \"1\")\n",
    "stroke_data = stroke_data[stroke_data[\"smoking_status\"].str.contains(\"Unknown\")== False]\n",
    "stroke_data['smoking_status'] = encoder.fit_transform(stroke_data['smoking_status'])"
   ]
  },
  {
   "cell_type": "code",
   "execution_count": 29,
   "id": "0b29fdd8",
   "metadata": {
    "execution": {
     "iopub.execute_input": "2023-05-18T15:50:30.527387Z",
     "iopub.status.busy": "2023-05-18T15:50:30.527136Z",
     "iopub.status.idle": "2023-05-18T15:50:30.535336Z",
     "shell.execute_reply": "2023-05-18T15:50:30.534381Z"
    },
    "papermill": {
     "duration": 0.023309,
     "end_time": "2023-05-18T15:50:30.537553",
     "exception": false,
     "start_time": "2023-05-18T15:50:30.514244",
     "status": "completed"
    },
    "tags": []
   },
   "outputs": [
    {
     "data": {
      "text/plain": [
       "0    3364\n",
       "1     202\n",
       "Name: stroke, dtype: int64"
      ]
     },
     "execution_count": 29,
     "metadata": {},
     "output_type": "execute_result"
    }
   ],
   "source": [
    "stroke_data['stroke'].value_counts()"
   ]
  },
  {
   "cell_type": "code",
   "execution_count": 30,
   "id": "441b9e79",
   "metadata": {
    "execution": {
     "iopub.execute_input": "2023-05-18T15:50:30.563923Z",
     "iopub.status.busy": "2023-05-18T15:50:30.563147Z",
     "iopub.status.idle": "2023-05-18T15:50:30.568830Z",
     "shell.execute_reply": "2023-05-18T15:50:30.567889Z"
    },
    "papermill": {
     "duration": 0.021173,
     "end_time": "2023-05-18T15:50:30.571102",
     "exception": false,
     "start_time": "2023-05-18T15:50:30.549929",
     "status": "completed"
    },
    "tags": []
   },
   "outputs": [],
   "source": [
    "X_stroke = stroke_data.drop(['stroke'], axis=1)\n",
    "y_stroke = stroke_data['stroke']"
   ]
  },
  {
   "cell_type": "code",
   "execution_count": 31,
   "id": "3cbada5c",
   "metadata": {
    "execution": {
     "iopub.execute_input": "2023-05-18T15:50:30.598838Z",
     "iopub.status.busy": "2023-05-18T15:50:30.597867Z",
     "iopub.status.idle": "2023-05-18T15:50:30.617374Z",
     "shell.execute_reply": "2023-05-18T15:50:30.616587Z"
    },
    "papermill": {
     "duration": 0.034762,
     "end_time": "2023-05-18T15:50:30.619346",
     "exception": false,
     "start_time": "2023-05-18T15:50:30.584584",
     "status": "completed"
    },
    "tags": []
   },
   "outputs": [],
   "source": [
    "oversample_stroke = SMOTE()\n",
    "over_X_stroke, over_y_stroke = oversample_stroke.fit_resample(X_stroke, y_stroke)\n",
    "over_X_train_stroke, over_X_test_stroke, over_y_train_stroke, over_y_test_stroke = train_test_split(over_X_stroke, over_y_stroke, test_size=0.1, stratify=over_y_stroke)\n",
    "SMOTE_SRF_stroke = RandomForestClassifier(n_estimators=150)\n",
    "cv_stroke = RepeatedStratifiedKFold(n_splits=10, n_repeats=3)"
   ]
  },
  {
   "cell_type": "code",
   "execution_count": 32,
   "id": "9c0ebba0",
   "metadata": {
    "execution": {
     "iopub.execute_input": "2023-05-18T15:50:30.644765Z",
     "iopub.status.busy": "2023-05-18T15:50:30.643998Z",
     "iopub.status.idle": "2023-05-18T15:51:01.027284Z",
     "shell.execute_reply": "2023-05-18T15:51:01.022947Z"
    },
    "papermill": {
     "duration": 30.409681,
     "end_time": "2023-05-18T15:51:01.040793",
     "exception": false,
     "start_time": "2023-05-18T15:50:30.631112",
     "status": "completed"
    },
    "tags": []
   },
   "outputs": [
    {
     "name": "stdout",
     "output_type": "stream",
     "text": [
      "Mean f1: 0.932\n",
      "Mean recall: 0.933\n",
      "Mean precision: 0.931\n"
     ]
    }
   ],
   "source": [
    "scoring_stroke = cross_validate(SMOTE_SRF_stroke, over_X_stroke, over_y_stroke, scoring=s, cv=cv_stroke)\n",
    "print('Mean f1: %.3f' % mean(scoring_stroke['test_f1']))\n",
    "print('Mean recall: %.3f' % mean(scoring_stroke['test_recall']))\n",
    "print('Mean precision: %.3f' % mean(scoring_stroke['test_precision']))"
   ]
  },
  {
   "cell_type": "code",
   "execution_count": 33,
   "id": "af423c8b",
   "metadata": {
    "execution": {
     "iopub.execute_input": "2023-05-18T15:51:01.066854Z",
     "iopub.status.busy": "2023-05-18T15:51:01.066564Z",
     "iopub.status.idle": "2023-05-18T15:51:02.058562Z",
     "shell.execute_reply": "2023-05-18T15:51:02.057479Z"
    },
    "papermill": {
     "duration": 1.007719,
     "end_time": "2023-05-18T15:51:02.060899",
     "exception": false,
     "start_time": "2023-05-18T15:51:01.053180",
     "status": "completed"
    },
    "tags": []
   },
   "outputs": [
    {
     "data": {
      "text/plain": [
       "array([0.96666667, 0.03333333])"
      ]
     },
     "execution_count": 33,
     "metadata": {},
     "output_type": "execute_result"
    }
   ],
   "source": [
    "#SMOTE works great for medical datasets\n",
    "X_train_stroke, X_test_stroke, y_train_stroke, y_test_stroke = train_test_split(X_stroke, y_stroke, test_size=0.1, stratify=y_stroke)\n",
    "SMOTE_SRF_stroke.fit(over_X_train_stroke, over_y_train_stroke)\n",
    "y_pred_stroke = SMOTE_SRF_stroke.predict_proba(X_test_stroke)\n",
    "y_pred_stroke[0]"
   ]
  }
 ],
 "metadata": {
  "kernelspec": {
   "display_name": "Python 3",
   "language": "python",
   "name": "python3"
  },
  "language_info": {
   "codemirror_mode": {
    "name": "ipython",
    "version": 3
   },
   "file_extension": ".py",
   "mimetype": "text/x-python",
   "name": "python",
   "nbconvert_exporter": "python",
   "pygments_lexer": "ipython3",
   "version": "3.10.10"
  },
  "papermill": {
   "default_parameters": {},
   "duration": 78.373479,
   "end_time": "2023-05-18T15:51:02.894282",
   "environment_variables": {},
   "exception": null,
   "input_path": "__notebook__.ipynb",
   "output_path": "__notebook__.ipynb",
   "parameters": {},
   "start_time": "2023-05-18T15:49:44.520803",
   "version": "2.4.0"
  }
 },
 "nbformat": 4,
 "nbformat_minor": 5
}
